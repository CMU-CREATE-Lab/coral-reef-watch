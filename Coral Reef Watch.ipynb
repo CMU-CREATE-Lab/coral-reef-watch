{
 "metadata": {
  "name": "",
  "signature": "sha256:447b86fb2ff6868eef0131108f1a0c56024e73fdbb5dbc5940d2d86bec3aebbc"
 },
 "nbformat": 3,
 "nbformat_minor": 0,
 "worksheets": [
  {
   "cells": [
    {
     "cell_type": "code",
     "collapsed": false,
     "input": [
      "import os, sys, urllib2, urlparse\n",
      "from datetime import timedelta, date\n",
      "\n",
      "def mirrorFile(src, dest):\n",
      "    if os.path.exists(dest):\n",
      "        print '%s already exists, skipping' % dest\n",
      "        return\n",
      "    try:\n",
      "        os.makedirs(os.path.dirname(dest))\n",
      "    except:\n",
      "        pass\n",
      "    print 'Reading %s' % src\n",
      "    sys.stdout.flush()\n",
      "    try:\n",
      "        body = urllib2.urlopen(src).read()\n",
      "        open(dest + '.tmp', 'w').write(body)\n",
      "        os.rename(dest + '.tmp', dest)\n",
      "        print 'Mirrored %.1f MB from %s to %s' % (len(body) / 1e6, src, dest)\n",
      "    except:\n",
      "        print 'Error downloading from %s to %s' % (src, dest)\n",
      "        \n",
      "def formatsrc(date, tile):\n",
      "    return \"http://coralreefwatch.noaa.gov/satellite/bleaching5km/images_archive/b05kmnn_max_r07d_baa_%s_%s_2160x1620.gif\" % (date, tile)\n",
      "\n",
      "def formatdest(date, tile):\n",
      "    return \"capture/satellite/bleaching5km/images_archive/b05kmnn_max_r07d_baa_%s_%s_2160x1620.gif\" % (date, tile)\n",
      "\n",
      "def daterange(start_date, end_date):\n",
      "    for n in range(int ((end_date - start_date).days)):\n",
      "        yield start_date + timedelta(n)\n",
      "\n",
      "def croptile(ifile, ofile):\n",
      "    command = \"convert %s -crop 1814x1294+173+163 +repage %s\" % (ifile, ofile)\n",
      "    !$command\n",
      "    \n",
      "tiles = ['enw','enc', 'ene', 'esw','esc', 'ese', 'wnw', 'wnc', 'wne', 'wsw','wsc', 'wse',]"
     ],
     "language": "python",
     "metadata": {},
     "outputs": [],
     "prompt_number": 1
    },
    {
     "cell_type": "code",
     "collapsed": false,
     "input": [
      "start_date = date(2013, 6, 9)\n",
      "end_date = date(2015, 11, 22)\n",
      "for single_date in daterange(start_date, end_date):\n",
      "    date = single_date.strftime(\"%Y%m%d\")\n",
      "    for tile in tiles:\n",
      "        mirrorFile(formatsrc(date, tile), formatdest(date, tile))\n",
      "    "
     ],
     "language": "python",
     "metadata": {},
     "outputs": []
    },
    {
     "cell_type": "code",
     "collapsed": false,
     "input": [
      "if not os.path.exists('capture/cropped'):\n",
      "    os.mkdir('capture/cropped')\n",
      "    \n",
      "for tile in tiles:\n",
      "    infile = formatdest(start_date.strftime('%Y%m%d'), tile)\n",
      "    base = os.path.basename(infile)\n",
      "    (root, ext) = os.path.splitext(base)\n",
      "    outfile = 'capture/cropped/' + root + '.jpg'\n",
      "    croptile(infile, outfile)"
     ],
     "language": "python",
     "metadata": {},
     "outputs": []
    },
    {
     "cell_type": "code",
     "collapsed": false,
     "input": [
      "tmpl = \"ftp://ftp.star.nesdis.noaa.gov/pub/sod/mecb/crw/data/5km/nc/baa_max_comp_7day/%s/baa_max_r07d_b05kmnn_%s.nc\"\n",
      "start_date = date(2013, 6, 9)\n",
      "end_date = date(2015, 12, 1)\n",
      "for single_date in daterange(start_date, end_date):\n",
      "    year = single_date.strftime(\"%Y\")\n",
      "    date_ = single_date.strftime(\"%Y%m%d\")\n",
      "    src = tmpl % (year, date_)\n",
      "    dst = \"capture\" + urlparse.urlparse(src).path\n",
      "    mirrorFile(src, dst)\n"
     ],
     "language": "python",
     "metadata": {},
     "outputs": []
    },
    {
     "cell_type": "code",
     "collapsed": false,
     "input": [
      "netcdf2tif_tmpl = \"gdal_translate -of GTiff  -a_srs EPSG:4326 NETCDF:\\\"%s\\\":CRW_BAA_max7d %s.tif\"\n",
      "addcolor2tif_tmpl = \"gdaldem color-relief %s.tif ramp.txt %s-color-relief.tif\"\n",
      "warptif2wm_tmpl = \"gdalwarp  -s_srs EPSG:4326 -t_srs EPSG:3857 -te -20037508.34 -20037508.34 20037508.34 20037508.34 -ts 7200 7200 %s-color-relief.tif %s-EPSG3857.tif\""
     ],
     "language": "python",
     "metadata": {},
     "outputs": []
    },
    {
     "cell_type": "code",
     "collapsed": false,
     "input": [
      "tmpl = \"ftp://ftp.star.nesdis.noaa.gov/pub/sod/mecb/crw/data/5km/nc/baa_max_comp_7day/%s/baa_max_r07d_b05kmnn_%s.nc\"\n",
      "start_date = date(2015, 7, 1)\n",
      "end_date = date(2015, 12, 1)\n",
      "for single_date in daterange(start_date, end_date):\n",
      "    year = single_date.strftime(\"%Y\")\n",
      "    date_ = single_date.strftime(\"%Y%m%d\")\n",
      "    src = tmpl % (year, date_)\n",
      "    dst = \"capture\" + urlparse.urlparse(src).path\n",
      "    if os.path.exists(dst):\n",
      "        command = netcdf2tif_tmpl % (dst, os.path.splitext(dst)[0])\n",
      "        !$command\n",
      "        command = addcolor2tif_tmpl % (os.path.splitext(dst)[0], os.path.splitext(dst)[0])\n",
      "        !$command\n",
      "        command = warptif2wm_tmpl % (os.path.splitext(dst)[0], os.path.splitext(dst)[0])\n",
      "        !$command\n",
      "#command = \"rsync -rcav capture/ timemachine1:/usr5/gabrielo/capture/coral-reef-watch/capture\"\n",
      "#!$command\n",
      "#command = \"rm -rf %s/*tif\" % os.path.split(dst)[0]\n",
      "#!$command\n"
     ],
     "language": "python",
     "metadata": {},
     "outputs": []
    },
    {
     "cell_type": "code",
     "collapsed": false,
     "input": [
      "command = \"rm -rf %s/*tif\" % os.path.split(dst)[0]\n",
      "command"
     ],
     "language": "python",
     "metadata": {},
     "outputs": []
    },
    {
     "cell_type": "code",
     "collapsed": false,
     "input": [],
     "language": "python",
     "metadata": {},
     "outputs": []
    },
    {
     "cell_type": "code",
     "collapsed": false,
     "input": [
      "tmpl = \"ftp://ftp.star.nesdis.noaa.gov/pub/sod/mecb/crw/data/5km/nc/baa_max_comp_7day/%s/baa_max_r07d_b05kmnn_%s.nc\"\n",
      "start_date = date(2015, 7, 1)\n",
      "end_date = date(2015, 12, 1)\n",
      "dates = [date(2015, 5, 5), date(2015, 5, 10), date(2015, 5, 11), date(2015, 5, 12), date(2015, 5, 13), date(2015, 5, 14), date(2015, 5, 15), date(2015, 5, 16)]\n",
      "for single_date in dates:\n",
      "    year = single_date.strftime(\"%Y\")\n",
      "    date_ = single_date.strftime(\"%Y%m%d\")\n",
      "    src = tmpl % (year, date_)\n",
      "    dst = \"capture\" + urlparse.urlparse(src).path\n",
      "    if os.path.exists(dst):\n",
      "        command = netcdf2tif_tmpl % (dst, os.path.splitext(dst)[0])\n",
      "        !$command\n",
      "        command = addcolor2tif_tmpl % (os.path.splitext(dst)[0], os.path.splitext(dst)[0])\n",
      "        !$command\n",
      "        command = warptif2wm_tmpl % (os.path.splitext(dst)[0], os.path.splitext(dst)[0])\n",
      "        !$command\n"
     ],
     "language": "python",
     "metadata": {},
     "outputs": []
    },
    {
     "cell_type": "code",
     "collapsed": false,
     "input": [
      "dates = [date(2015, 5, 5), date(2015, 5, 10), date(2015, 5, 11), date(2015, 5, 12), date(2015, 5, 13), date(2015, 5, 14), date(2015, 5, 15), date(2015, 5, 16)]\n",
      "for single_date in dates:\n",
      "    year = single_date.strftime(\"%Y\")\n",
      "    date_ = single_date.strftime(\"%Y%m%d\")\n",
      "    src = tmpl % (year, date_)\n",
      "    dst = \"capture\" + urlparse.urlparse(src).path\n",
      "    print dst"
     ],
     "language": "python",
     "metadata": {},
     "outputs": []
    },
    {
     "cell_type": "code",
     "collapsed": false,
     "input": [
      "tmpl = \"ftp://ftp.star.nesdis.noaa.gov/pub/sod/mecb/crw/data/5km/nc/baa_max_comp_7day/%s/baa_max_r07d_b05kmnn_%s.nc\"\n",
      "start_date = date(2013, 7, 1)\n",
      "end_date = date(2013, 7, 16)\n",
      "for single_date in daterange(start_date, end_date):\n",
      "    year = single_date.strftime(\"%Y\")\n",
      "    date_ = single_date.strftime(\"%Y%m%d\")\n",
      "    src = tmpl % (year, date_)\n",
      "    dst = \"capture\" + urlparse.urlparse(src).path\n",
      "    if os.path.exists(dst):\n",
      "        command = netcdf2tif_tmpl % (dst, os.path.splitext(dst)[0])\n",
      "        !$command\n",
      "        command = addcolor2tif_tmpl % (os.path.splitext(dst)[0], os.path.splitext(dst)[0])\n",
      "        !$command\n",
      "        command = warptif2wm_tmpl % (os.path.splitext(dst)[0], os.path.splitext(dst)[0])\n",
      "        !$command\n"
     ],
     "language": "python",
     "metadata": {},
     "outputs": []
    },
    {
     "cell_type": "code",
     "collapsed": false,
     "input": [
      "start_date = date(2013, 6, 9)\n",
      "end_date = date(2015, 12, 1)\n",
      "f = open(\"crw-times.json\", \"w\")\n",
      "f.write(\"{\\\"capture-times\\\":[\")\n",
      "for single_date in daterange(start_date, end_date):\n",
      "    date_ = single_date.strftime(\"%Y-%m-%d\")\n",
      "    f.write(\"\\\"%s\\\"\" % date_)\n",
      "    if date_ != \"2015-11-30\":\n",
      "        f.write(\",\")\n",
      "f.write(\"]}\")\n",
      "f.close()    "
     ],
     "language": "python",
     "metadata": {},
     "outputs": [],
     "prompt_number": 8
    },
    {
     "cell_type": "code",
     "collapsed": false,
     "input": [],
     "language": "python",
     "metadata": {},
     "outputs": []
    }
   ],
   "metadata": {}
  }
 ]
}