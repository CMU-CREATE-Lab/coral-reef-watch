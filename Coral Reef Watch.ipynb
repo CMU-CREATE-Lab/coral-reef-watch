{
 "metadata": {
  "name": "",
  "signature": "sha256:26ef4fa3e1280704e3627580895c8b998d0e1050b4024d1c29446279c51c19eb"
 },
 "nbformat": 3,
 "nbformat_minor": 0,
 "worksheets": [
  {
   "cells": [
    {
     "cell_type": "code",
     "collapsed": false,
     "input": [
      "import os, sys, urllib2, urlparse\n",
      "from datetime import timedelta, date\n",
      "\n",
      "def mirrorFile(src, dest):\n",
      "    if os.path.exists(dest):\n",
      "        print '%s already exists, skipping' % dest\n",
      "        return\n",
      "    try:\n",
      "        os.makedirs(os.path.dirname(dest))\n",
      "    except:\n",
      "        pass\n",
      "    print 'Reading %s' % src\n",
      "    sys.stdout.flush()\n",
      "    try:\n",
      "        body = urllib2.urlopen(src).read()\n",
      "        open(dest + '.tmp', 'w').write(body)\n",
      "        os.rename(dest + '.tmp', dest)\n",
      "        print 'Mirrored %.1f MB from %s to %s' % (len(body) / 1e6, src, dest)\n",
      "    except:\n",
      "        print 'Error downloading from %s to %s' % (src, dest)\n",
      "        \n",
      "def formatsrc(date, tile):\n",
      "    return \"http://coralreefwatch.noaa.gov/satellite/bleaching5km/images_archive/b05kmnn_max_r07d_baa_%s_%s_2160x1620.gif\" % (date, tile)\n",
      "\n",
      "def formatdest(date, tile):\n",
      "    return \"capture/satellite/bleaching5km/images_archive/b05kmnn_max_r07d_baa_%s_%s_2160x1620.gif\" % (date, tile)\n",
      "\n",
      "def daterange(start_date, end_date):\n",
      "    for n in range(int ((end_date - start_date).days)):\n",
      "        yield start_date + timedelta(n)\n",
      "\n",
      "def croptile(ifile, ofile):\n",
      "    command = \"convert %s -crop 1814x1294+173+163 +repage %s\" % (ifile, ofile)\n",
      "    !$command\n",
      "    \n",
      "tiles = ['enw','enc', 'ene', 'esw','esc', 'ese', 'wnw', 'wnc', 'wne', 'wsw','wsc', 'wse',]"
     ],
     "language": "python",
     "metadata": {},
     "outputs": [],
     "prompt_number": 1
    },
    {
     "cell_type": "code",
     "collapsed": false,
     "input": [
      "start_date = date(2013, 6, 9)\n",
      "end_date = date(2015, 11, 22)\n",
      "for single_date in daterange(start_date, end_date):\n",
      "    date = single_date.strftime(\"%Y%m%d\")\n",
      "    for tile in tiles:\n",
      "        mirrorFile(formatsrc(date, tile), formatdest(date, tile))\n",
      "    "
     ],
     "language": "python",
     "metadata": {},
     "outputs": []
    },
    {
     "cell_type": "code",
     "collapsed": false,
     "input": [
      "if not os.path.exists('capture/cropped'):\n",
      "    os.mkdir('capture/cropped')\n",
      "    \n",
      "for tile in tiles:\n",
      "    infile = formatdest(start_date.strftime('%Y%m%d'), tile)\n",
      "    base = os.path.basename(infile)\n",
      "    (root, ext) = os.path.splitext(base)\n",
      "    outfile = 'capture/cropped/' + root + '.jpg'\n",
      "    croptile(infile, outfile)"
     ],
     "language": "python",
     "metadata": {},
     "outputs": []
    },
    {
     "cell_type": "code",
     "collapsed": false,
     "input": [
      "tmpl = \"ftp://ftp.star.nesdis.noaa.gov/pub/sod/mecb/crw/data/5km/nc/baa_max_comp_7day/%s/baa_max_r07d_b05kmnn_%s.nc\"\n",
      "start_date = date(2013, 6, 9)\n",
      "end_date = date(2015, 12, 1)\n",
      "for single_date in daterange(start_date, end_date):\n",
      "    year = single_date.strftime(\"%Y\")\n",
      "    date_ = single_date.strftime(\"%Y%m%d\")\n",
      "    src = tmpl % (year, date_)\n",
      "    dst = \"capture\" + urlparse.urlparse(src).path\n",
      "    mirrorFile(src, dst)\n"
     ],
     "language": "python",
     "metadata": {},
     "outputs": []
    },
    {
     "cell_type": "code",
     "collapsed": false,
     "input": [
      "netcdf2tif_tmpl = \"gdal_translate -of GTiff  NETCDF:\\\"%s\\\":CRW_BAA_max7d %s.tif\"\n",
      "addcolor2tif_tmpl = \"gdaldem color-relief %s.tif ramp.txt %s-color-relief.tif\"\n",
      "warptif2wm_tmpl = \"gdalwarp -t_srs EPSG:3857 -te -20037508.34 -20037508.34 20037508.34 20037508.34 -ts 8192 8192 %s-color-relief.tif %s-EPSG3857.tif\""
     ],
     "language": "python",
     "metadata": {},
     "outputs": [],
     "prompt_number": 22
    },
    {
     "cell_type": "code",
     "collapsed": false,
     "input": [
      "command = netcdf2tif_tmpl % (dst, os.path.splitext(dst)[0])\n",
      "!$command"
     ],
     "language": "python",
     "metadata": {},
     "outputs": [],
     "prompt_number": 10
    },
    {
     "cell_type": "code",
     "collapsed": false,
     "input": [
      "command = addcolor2tif_tmpl % (os.path.splitext(dst)[0], os.path.splitext(dst)[0])\n",
      "!$command"
     ],
     "language": "python",
     "metadata": {},
     "outputs": []
    },
    {
     "cell_type": "code",
     "collapsed": false,
     "input": [
      "command = warptif2wm_tmpl % (os.path.splitext(dst)[0], os.path.splitext(dst)[0])\n",
      "!$command"
     ],
     "language": "python",
     "metadata": {},
     "outputs": []
    }
   ],
   "metadata": {}
  }
 ]
}